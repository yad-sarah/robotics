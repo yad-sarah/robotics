{
 "cells": [
  {
   "cell_type": "code",
   "execution_count": 6,
   "id": "1492e376-a96d-493b-a190-d6f16ba8cc9f",
   "metadata": {},
   "outputs": [
    {
     "name": "stdout",
     "output_type": "stream",
     "text": [
      "ku\n"
     ]
    }
   ],
   "source": [
    "x=3\n",
    "print('ku')"
   ]
  },
  {
   "cell_type": "code",
   "execution_count": 7,
   "id": "41d01f89-5ad3-4d23-948c-c9c726fde716",
   "metadata": {},
   "outputs": [
    {
     "name": "stdout",
     "output_type": "stream",
     "text": [
      "[0. 0. 0. 0. 0.]\n"
     ]
    }
   ],
   "source": [
    "import numpy as np\n",
    "x=np.zeros(5)\n",
    "print(x)"
   ]
  },
  {
   "cell_type": "code",
   "execution_count": 5,
   "id": "d2e40005-6be6-4669-a3de-55c5bff7a284",
   "metadata": {},
   "outputs": [],
   "source": [
    "import dm_robotics"
   ]
  },
  {
   "cell_type": "code",
   "execution_count": null,
   "id": "c13c5d3e-b2c4-41a7-96ac-9d47ffffa173",
   "metadata": {},
   "outputs": [],
   "source": []
  }
 ],
 "metadata": {
  "kernelspec": {
   "display_name": "Python 3 (ipykernel)",
   "language": "python",
   "name": "python3"
  },
  "language_info": {
   "codemirror_mode": {
    "name": "ipython",
    "version": 3
   },
   "file_extension": ".py",
   "mimetype": "text/x-python",
   "name": "python",
   "nbconvert_exporter": "python",
   "pygments_lexer": "ipython3",
   "version": "3.12.0"
  }
 },
 "nbformat": 4,
 "nbformat_minor": 5
}
